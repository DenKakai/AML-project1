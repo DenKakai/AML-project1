{
 "cells": [
  {
   "cell_type": "code",
   "execution_count": 125,
   "metadata": {},
   "outputs": [],
   "source": [
    "import pandas as pd\n",
    "from LR_model import LR\n",
    "from sklearn.model_selection import train_test_split\n",
    "from sklearn.metrics import balanced_accuracy_score\n",
    "import numpy as np"
   ]
  },
  {
   "cell_type": "markdown",
   "metadata": {},
   "source": [
    "# <10 features"
   ]
  },
  {
   "cell_type": "code",
   "execution_count": 1,
   "metadata": {},
   "outputs": [],
   "source": [
    "# https://archive.ics.uci.edu/dataset/20/census+income\n",
    "def get_data_adult():\n",
    "    df = pd.read_csv('data/adult.data', header=None)\n",
    "    X = df.iloc[:, [0, 2, 4, 10, 11, 12]]\n",
    "    y = [1 if x == ' <=50K' else 0 for x in df.iloc[:, 14]]\n",
    "    return X, y"
   ]
  },
  {
   "cell_type": "code",
   "execution_count": 5,
   "metadata": {},
   "outputs": [],
   "source": [
    "# https://archive.ics.uci.edu/dataset/850/raisin\n",
    "def get_data_raisin():\n",
    "    df = pd.read_csv('data/Raisin_Dataset.arff', skiprows=18, header=None)\n",
    "    X = df.iloc[:, :7]\n",
    "    y = [1 if x=='Kecimen' else 0 for x in df.iloc[:, 7]]\n",
    "    return X, y"
   ]
  },
  {
   "cell_type": "code",
   "execution_count": 6,
   "metadata": {},
   "outputs": [],
   "source": [
    "# https://archive.ics.uci.edu/dataset/545/rice+cammeo+and+osmancik\n",
    "def get_data_rice():\n",
    "    df = pd.read_csv('data/Rice_Cammeo_Osmancik.arff', skiprows=16, header=None)\n",
    "    X = df.iloc[:, :7]\n",
    "    y = [1 if x=='Cammeo' else 0 for x in df.iloc[:, 7]]\n",
    "    return X, y"
   ]
  },
  {
   "cell_type": "markdown",
   "metadata": {},
   "source": [
    "## 10+ features"
   ]
  },
  {
   "cell_type": "code",
   "execution_count": 7,
   "metadata": {},
   "outputs": [],
   "source": [
    "# https://archive.ics.uci.edu/dataset/602/dry+bean+dataset\n",
    "def get_data_bean():\n",
    "    df = pd.read_csv('data/Dry_Bean_Dataset.arff', skiprows=25, header=None)\n",
    "    df.loc[df[16].isin(['SEKER', 'DERMASON']), 16]\n",
    "    X = df.loc[df[16].isin(['SEKER', 'DERMASON']), 0:15]\n",
    "    y = [1 if x == 'SEKER' else 0 for x in df.loc[df[16].isin(['SEKER', 'DERMASON']), 16]]\n",
    "    return X, y"
   ]
  },
  {
   "cell_type": "code",
   "execution_count": 8,
   "metadata": {},
   "outputs": [],
   "source": [
    "# https://archive.ics.uci.edu/dataset/17/breast+cancer+wisconsin+diagnostic\n",
    "def get_data_cancer():\n",
    "    df = pd.read_csv('data/wdbc.data', header=None)\n",
    "    X = df.iloc[:, 2:]\n",
    "    y = df.iloc[:, 1]\n",
    "    y = [1 if x == 'M' else 0 for x in y]\n",
    "    return X, y"
   ]
  },
  {
   "cell_type": "code",
   "execution_count": 9,
   "metadata": {},
   "outputs": [],
   "source": [
    "# https://archive.ics.uci.edu/dataset/94/spambase\n",
    "def get_data_spam():\n",
    "    df = pd.read_csv('data/spambase.data', header=None)\n",
    "    X = df.iloc[:, :57]\n",
    "    y = df.iloc[:, 57]\n",
    "    return X, y"
   ]
  },
  {
   "cell_type": "code",
   "execution_count": 10,
   "metadata": {},
   "outputs": [],
   "source": [
    "# https://www.openml.org/search?type=data&status=active&qualities.NumberOfFeatures=between_10_100&qualities.NumberOfClasses=%3D_2&sort=runs&id=1471\n",
    "def get_data_eeg():\n",
    "    df = pd.read_csv('data/phplE7q6h.arff', skiprows=37, header=None)\n",
    "    X = df.iloc[:, :14]\n",
    "    y = df.iloc[:, 14]\n",
    "    return X, y"
   ]
  },
  {
   "cell_type": "code",
   "execution_count": 11,
   "metadata": {},
   "outputs": [],
   "source": [
    "# https://www.openml.org/search?type=data&status=active&qualities.NumberOfFeatures=between_10_100&qualities.NumberOfClasses=%3D_2&sort=runs&id=1053\n",
    "def get_data_jm1():\n",
    "    df = pd.read_csv('data/jm1.arff', skiprows=356, header=None)\n",
    "    X = df.iloc[:, :21]\n",
    "    y = df.iloc[:, 21]\n",
    "    y = [1 if x else 0 for x in y]\n",
    "    return X, y"
   ]
  },
  {
   "cell_type": "code",
   "execution_count": 12,
   "metadata": {},
   "outputs": [],
   "source": [
    "# https://www.openml.org/search?type=data&status=active&qualities.NumberOfFeatures=between_10_100&qualities.NumberOfClasses=%3D_2&sort=runs&id=1053\n",
    "def get_data_churn():\n",
    "    df = pd.read_csv('data/churn.arff', skiprows=28, header=None)\n",
    "    X = df.iloc[:, [0, 1, 3] + [i for i in range(6, 19)]]\n",
    "    y = df.iloc[:, 20]\n",
    "    return X, y"
   ]
  },
  {
   "cell_type": "markdown",
   "metadata": {},
   "source": [
    "## 3.2"
   ]
  },
  {
   "cell_type": "code",
   "execution_count": 43,
   "metadata": {},
   "outputs": [],
   "source": [
    "datasets = {\n",
    "    'adult': get_data_adult(),\n",
    "    'raisin': get_data_raisin(),\n",
    "    'rice': get_data_rice(),\n",
    "    'bean': get_data_bean(),\n",
    "    'cancer': get_data_cancer(),\n",
    "    'spam': get_data_spam(),\n",
    "    'eeg': get_data_eeg(),\n",
    "    #'jm1': get_data_jm1(), has some issues with data\n",
    "    'churn': get_data_churn()\n",
    "}\n",
    "#adult, eeg, churn trudne zbiory"
   ]
  },
  {
   "cell_type": "code",
   "execution_count": 132,
   "metadata": {},
   "outputs": [
    {
     "name": "stderr",
     "output_type": "stream",
     "text": [
      "c:\\Users\\Tomcio\\Documents\\AML\\AML-project1\\LR_model.py:4: RuntimeWarning: overflow encountered in exp\n",
      "  return 1/(1 + np.exp(-x))\n",
      "c:\\Users\\Tomcio\\Documents\\AML\\AML-project1\\LR_model.py:4: RuntimeWarning: overflow encountered in exp\n",
      "  return 1/(1 + np.exp(-x))\n",
      "c:\\Users\\Tomcio\\Documents\\AML\\AML-project1\\LR_model.py:4: RuntimeWarning: overflow encountered in exp\n",
      "  return 1/(1 + np.exp(-x))\n",
      "c:\\Users\\Tomcio\\Documents\\AML\\AML-project1\\LR_model.py:4: RuntimeWarning: overflow encountered in exp\n",
      "  return 1/(1 + np.exp(-x))\n",
      "c:\\Users\\Tomcio\\Documents\\AML\\AML-project1\\LR_model.py:4: RuntimeWarning: overflow encountered in exp\n",
      "  return 1/(1 + np.exp(-x))\n",
      "c:\\Users\\Tomcio\\Documents\\AML\\AML-project1\\LR_model.py:4: RuntimeWarning: overflow encountered in exp\n",
      "  return 1/(1 + np.exp(-x))\n",
      "c:\\Users\\Tomcio\\Documents\\AML\\AML-project1\\LR_model.py:4: RuntimeWarning: overflow encountered in exp\n",
      "  return 1/(1 + np.exp(-x))\n"
     ]
    }
   ],
   "source": [
    "results = {\n",
    "    'SGD': {},\n",
    "    'IWLS': {},\n",
    "    'ADAM': {}\n",
    "}\n",
    "n_splits = 1\n",
    "\n",
    "\n",
    "for dataset in datasets:\n",
    "    for r in np.random.randint(1, 10000, n_splits):\n",
    "        X_train, X_test, y_train, y_test = train_test_split(datasets[dataset][0], datasets[dataset][1], test_size=0.2, random_state=r)\n",
    "        for opt_algorithm in ['SGD']:#, 'IWLS', 'ADAM']:\n",
    "            model = LR(n_iterations=50000, learning_rate=0.005)\n",
    "            model.fit(X_train, y_train, optimization_algorithm=opt_algorithm, batch_size=64)\n",
    "            if results[opt_algorithm].get(dataset) is None:\n",
    "                results[opt_algorithm][dataset] = 0\n",
    "            results[opt_algorithm][dataset] += balanced_accuracy_score(y_test, model.predict(X_test)) / n_splits"
   ]
  },
  {
   "cell_type": "code",
   "execution_count": 131,
   "metadata": {},
   "outputs": [
    {
     "data": {
      "text/plain": [
       "{'SGD': {'adult': 0.5876331264168455,\n",
       "  'raisin': 0.5,\n",
       "  'rice': 0.5,\n",
       "  'bean': 0.5,\n",
       "  'cancer': 0.6486486486486487,\n",
       "  'spam': 0.5985151383456468,\n",
       "  'eeg': 0.5,\n",
       "  'churn': 0.6491543566688075},\n",
       " 'IWLS': {},\n",
       " 'ADAM': {}}"
      ]
     },
     "execution_count": 131,
     "metadata": {},
     "output_type": "execute_result"
    }
   ],
   "source": [
    "results"
   ]
  }
 ],
 "metadata": {
  "kernelspec": {
   "display_name": "Python 3",
   "language": "python",
   "name": "python3"
  },
  "language_info": {
   "codemirror_mode": {
    "name": "ipython",
    "version": 3
   },
   "file_extension": ".py",
   "mimetype": "text/x-python",
   "name": "python",
   "nbconvert_exporter": "python",
   "pygments_lexer": "ipython3",
   "version": "3.9.10"
  }
 },
 "nbformat": 4,
 "nbformat_minor": 2
}
