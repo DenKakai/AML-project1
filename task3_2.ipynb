{
 "cells": [
  {
   "cell_type": "code",
   "execution_count": null,
   "metadata": {},
   "outputs": [],
   "source": [
    "import pandas as pd\n",
    "from LR_model import LR\n",
    "from sklearn.model_selection import train_test_split\n",
    "from sklearn.metrics import balanced_accuracy_score\n",
    "import numpy as np"
   ]
  },
  {
   "cell_type": "markdown",
   "metadata": {},
   "source": [
    "# <10 features"
   ]
  },
  {
   "cell_type": "code",
   "execution_count": null,
   "metadata": {},
   "outputs": [],
   "source": [
    "def delete_high_corr_cols(df):\n",
    "    corr = df.corr()\n",
    "    high_corr_pairs = []\n",
    "    for i in range(len(corr.columns)):\n",
    "        for j in range(i+1, len(corr.columns)):\n",
    "            if abs(corr.iloc[i, j]) > 0.8:\n",
    "                high_corr_pairs.append((corr.columns[i], corr.columns[j]))\n",
    "\n",
    "    cols_to_drop = []\n",
    "    for pair in high_corr_pairs:\n",
    "        cols_to_drop.append(pair[0])\n",
    "    cols_to_drop = list(set(cols_to_drop))\n",
    "    df.drop(columns = cols_to_drop, inplace = True)\n",
    "    return df"
   ]
  },
  {
   "cell_type": "code",
   "execution_count": null,
   "metadata": {},
   "outputs": [],
   "source": [
    "# https://archive.ics.uci.edu/dataset/20/census+income\n",
    "def get_data_adult():\n",
    "    df = pd.read_csv('data/adult.data', header=None)\n",
    "    X = df.iloc[:, [0, 2, 4, 10, 11, 12]]\n",
    "    X = delete_high_corr_cols(X)\n",
    "    y = [1 if x == ' <=50K' else 0 for x in df.iloc[:, 14]]\n",
    "    return X, y"
   ]
  },
  {
   "cell_type": "code",
   "execution_count": null,
   "metadata": {},
   "outputs": [],
   "source": [
    "# https://archive.ics.uci.edu/dataset/850/raisin\n",
    "def get_data_raisin():\n",
    "    df = pd.read_csv('data/Raisin_Dataset.arff', skiprows=18, header=None)\n",
    "    X = df.iloc[:, :7]\n",
    "    X = delete_high_corr_cols(X)\n",
    "    y = [1 if x=='Kecimen' else 0 for x in df.iloc[:, 7]]\n",
    "    return X, y"
   ]
  },
  {
   "cell_type": "code",
   "execution_count": null,
   "metadata": {},
   "outputs": [],
   "source": [
    "# https://archive.ics.uci.edu/dataset/545/rice+cammeo+and+osmancik\n",
    "def get_data_rice():\n",
    "    df = pd.read_csv('data/Rice_Cammeo_Osmancik.arff', skiprows=16, header=None)\n",
    "    X = df.iloc[:, :7]\n",
    "    X = delete_high_corr_cols(X)\n",
    "    y = [1 if x=='Cammeo' else 0 for x in df.iloc[:, 7]]\n",
    "    return X, y"
   ]
  },
  {
   "cell_type": "markdown",
   "metadata": {},
   "source": [
    "## 10+ features"
   ]
  },
  {
   "cell_type": "code",
   "execution_count": null,
   "metadata": {},
   "outputs": [],
   "source": [
    "from ucimlrepo import fetch_ucirepo \n",
    "# https://archive.ics.uci.edu/dataset/850/raisin\n",
    "def get_data_wisconsin():\n",
    "  \n",
    "    # fetch dataset \n",
    "    breast_cancer_wisconsin_diagnostic = fetch_ucirepo(id=17) \n",
    "    \n",
    "    # data (as pandas dataframes) \n",
    "    X = breast_cancer_wisconsin_diagnostic.data.features \n",
    "    X = delete_high_corr_cols(X)\n",
    "    y = breast_cancer_wisconsin_diagnostic.data.targets \n",
    "    y = [0 if x == 'B' else 1 for x in np.ravel(y.values)]\n",
    "    return X, y"
   ]
  },
  {
   "cell_type": "code",
   "execution_count": null,
   "metadata": {},
   "outputs": [],
   "source": [
    "# https://archive.ics.uci.edu/dataset/17/breast+cancer+wisconsin+diagnostic\n",
    "def get_data_cancer():\n",
    "    df = pd.read_csv('data/wdbc.data', header=None)\n",
    "    X = df.iloc[:, 2:]\n",
    "    X = delete_high_corr_cols(X)\n",
    "    y = df.iloc[:, 1]\n",
    "    y = [1 if x == 'M' else 0 for x in y]\n",
    "    return X, y"
   ]
  },
  {
   "cell_type": "code",
   "execution_count": null,
   "metadata": {},
   "outputs": [],
   "source": [
    "# https://archive.ics.uci.edu/dataset/94/spambase\n",
    "def get_data_spam():\n",
    "    df = pd.read_csv('data/spambase.data', header=None)\n",
    "    X = df.iloc[:, :57]\n",
    "    X = delete_high_corr_cols(X)\n",
    "    y = df.iloc[:, 57]\n",
    "    return X, y"
   ]
  },
  {
   "cell_type": "code",
   "execution_count": null,
   "metadata": {},
   "outputs": [],
   "source": [
    "# https://www.openml.org/search?type=data&status=active&qualities.NumberOfFeatures=between_10_100&qualities.NumberOfClasses=%3D_2&sort=runs&id=1471\n",
    "def get_data_eeg():\n",
    "    df = pd.read_csv('data/phplE7q6h.arff', skiprows=37, header=None)\n",
    "    X = df.iloc[:, :14]\n",
    "    X = delete_high_corr_cols(X)\n",
    "    y = df.iloc[:, 14]\n",
    "    y = [0 if x == 1 else 1 for x in y]\n",
    "    return X, y"
   ]
  },
  {
   "cell_type": "code",
   "execution_count": null,
   "metadata": {},
   "outputs": [],
   "source": [
    "# do wywalenia\n",
    "\n",
    "# https://www.openml.org/search?type=data&status=active&qualities.NumberOfFeatures=between_10_100&qualities.NumberOfClasses=%3D_2&sort=runs&id=1053\n",
    "def get_data_jm1():\n",
    "    df = pd.read_csv('data/jm1.arff', skiprows=356, header=None)\n",
    "    X = df.iloc[:, :21]\n",
    "    X = delete_high_corr_cols(X)\n",
    "    y = df.iloc[:, 21]\n",
    "    y = [1 if x else 0 for x in y]\n",
    "    return X, y"
   ]
  },
  {
   "cell_type": "code",
   "execution_count": null,
   "metadata": {},
   "outputs": [],
   "source": [
    "# https://www.openml.org/search?type=data&status=active&qualities.NumberOfFeatures=between_10_100&qualities.NumberOfClasses=%3D_2&sort=runs&id=59\n",
    "def get_data_ionosphere():\n",
    "    df = pd.read_csv('data/dataset_59_ionosphere.arff', skiprows=104, skipfooter=3, header=None)\n",
    "    X = df.iloc[:, :34]\n",
    "    X = delete_high_corr_cols(X)\n",
    "    y = df.iloc[:, 34]\n",
    "    y = [1 if x == 'g' else 0 for x in y]\n",
    "    return X, y"
   ]
  },
  {
   "cell_type": "code",
   "execution_count": null,
   "metadata": {},
   "outputs": [],
   "source": [
    "# https://www.openml.org/search?type=data&status=active&qualities.NumberOfFeatures=between_10_100&qualities.NumberOfClasses=%3D_2&sort=runs&id=40701\n",
    "def get_data_churn():\n",
    "    df = pd.read_csv('data/churn.arff', skiprows=28, header=None)\n",
    "    X = df.iloc[:, [0, 1, 3] + [i for i in range(6, 19)]]\n",
    "    X = delete_high_corr_cols(X)\n",
    "    y = df.iloc[:, 20]\n",
    "    return X, y"
   ]
  },
  {
   "cell_type": "code",
   "execution_count": null,
   "metadata": {},
   "outputs": [],
   "source": [
    "from ucimlrepo import fetch_ucirepo\n",
    "def get_data_default():\n",
    "    default_of_credit_card_clients = fetch_ucirepo(id=350) \n",
    "  \n",
    "# data (as pandas dataframes) \n",
    "    X = default_of_credit_card_clients.data.features \n",
    "    X = delete_high_corr_cols(X)\n",
    "    y = default_of_credit_card_clients.data.targets \n",
    "    y = list(np.ravel(y.values))\n",
    "    return X, y"
   ]
  },
  {
   "cell_type": "code",
   "execution_count": null,
   "metadata": {},
   "outputs": [
    {
     "name": "stderr",
     "output_type": "stream",
     "text": [
      "C:\\Users\\mipec\\AppData\\Local\\Temp\\ipykernel_16320\\983707466.py:13: SettingWithCopyWarning: \n",
      "A value is trying to be set on a copy of a slice from a DataFrame\n",
      "\n",
      "See the caveats in the documentation: https://pandas.pydata.org/pandas-docs/stable/user_guide/indexing.html#returning-a-view-versus-a-copy\n",
      "  df.drop(columns = cols_to_drop, inplace = True)\n",
      "C:\\Users\\mipec\\AppData\\Local\\Temp\\ipykernel_16320\\983707466.py:13: SettingWithCopyWarning: \n",
      "A value is trying to be set on a copy of a slice from a DataFrame\n",
      "\n",
      "See the caveats in the documentation: https://pandas.pydata.org/pandas-docs/stable/user_guide/indexing.html#returning-a-view-versus-a-copy\n",
      "  df.drop(columns = cols_to_drop, inplace = True)\n",
      "C:\\Users\\mipec\\AppData\\Local\\Temp\\ipykernel_16320\\983707466.py:13: SettingWithCopyWarning: \n",
      "A value is trying to be set on a copy of a slice from a DataFrame\n",
      "\n",
      "See the caveats in the documentation: https://pandas.pydata.org/pandas-docs/stable/user_guide/indexing.html#returning-a-view-versus-a-copy\n",
      "  df.drop(columns = cols_to_drop, inplace = True)\n",
      "C:\\Users\\mipec\\AppData\\Local\\Temp\\ipykernel_16320\\2698541372.py:3: ParserWarning: Falling back to the 'python' engine because the 'c' engine does not support skipfooter; you can avoid this warning by specifying engine='python'.\n",
      "  df = pd.read_csv('data/dataset_59_ionosphere.arff', skiprows=104, skipfooter=3, header=None)\n"
     ]
    }
   ],
   "source": [
    "datasets = {\n",
    "    'adult': get_data_adult(),\n",
    "    'raisin': get_data_raisin(),\n",
    "    'rice': get_data_rice(),\n",
    "    'default': get_data_default(),\n",
    "    'cancer': get_data_cancer(),\n",
    "    'spam': get_data_spam(),\n",
    "    'eeg': get_data_eeg(),\n",
    "    #'jm1': get_data_jm1(), has some issues with data\n",
    "    'churn': get_data_churn(),\n",
    "    'ionosphere' : get_data_ionosphere()\n",
    "}\n",
    "#adult, eeg, churn trudne zbiory"
   ]
  },
  {
   "cell_type": "code",
   "execution_count": null,
   "metadata": {},
   "outputs": [
    {
     "data": {
      "text/plain": [
       "{('adult', 'SGD'): 1e-06,\n",
       " ('adult', 'IWLS'): 0.01,\n",
       " ('adult', 'ADAM'): 0.0001,\n",
       " ('raisin', 'SGD'): 0.0001,\n",
       " ('raisin', 'IWLS'): 0.01,\n",
       " ('raisin', 'ADAM'): 0.01,\n",
       " ('rice', 'SGD'): 1e-05,\n",
       " ('rice', 'IWLS'): 0.01,\n",
       " ('rice', 'ADAM'): 0.001,\n",
       " ('default', 'SGD'): 0.01,\n",
       " ('default', 'IWLS'): 0.01,\n",
       " ('default', 'ADAM'): 0.01,\n",
       " ('cancer', 'SGD'): 1e-05,\n",
       " ('cancer', 'IWLS'): 0.01,\n",
       " ('cancer', 'ADAM'): 0.01,\n",
       " ('spam', 'SGD'): 0.0001,\n",
       " ('spam', 'IWLS'): 0.01,\n",
       " ('spam', 'ADAM'): 0.01,\n",
       " ('eeg', 'SGD'): 1e-05,\n",
       " ('eeg', 'IWLS'): 0.01,\n",
       " ('eeg', 'ADAM'): 0.001,\n",
       " ('churn', 'SGD'): 0.001,\n",
       " ('churn', 'IWLS'): 0.01,\n",
       " ('churn', 'ADAM'): 0.01,\n",
       " ('ionosphere', 'SGD'): 0.01,\n",
       " ('ionosphere', 'IWLS'): 0.01,\n",
       " ('ionosphere', 'ADAM'): 0.01}"
      ]
     },
     "metadata": {},
     "output_type": "display_data"
    }
   ],
   "source": [
    "learning_rates = {'dataset' : list(np.ravel([[dataset] * 3 for dataset in datasets])),\n",
    "  'algo' : ['SGD', 'IWLS', 'ADAM'] * 9,\n",
    "  'lr' : [1e-6, 1e-2, 1e-4, # adult\n",
    "          1e-4, 1e-2, 1e-2, # raisin\n",
    "          1e-5, 1e-2, 1e-3, # rice\n",
    "          1e-2, 1e-2, 1e-2, # default\n",
    "          1e-5, 1e-2, 1e-2, # cancer\n",
    "          1e-4, 1e-2, 1e-2, # spam\n",
    "          1e-5, 1e-2, 1e-3, # eeg\n",
    "          1e-3, 1e-2, 1e-2, # churn\n",
    "          1e-2, 1e-2, 1e-2# ionosphere\n",
    "          ]}\n",
    "lr_dict = {}\n",
    "for dataset, algo, lr in zip(learning_rates['dataset'], learning_rates['algo'], learning_rates['lr']):\n",
    "    lr_dict[(dataset, algo)] = lr\n",
    "lr_dict"
   ]
  },
  {
   "cell_type": "code",
   "execution_count": null,
   "metadata": {},
   "outputs": [
    {
     "name": "stdout",
     "output_type": "stream",
     "text": [
      "ADAM, ionosphere, 0.7142857142857143------------------------------------------"
     ]
    }
   ],
   "source": [
    "import warnings\n",
    "warnings.filterwarnings('ignore', category = RuntimeWarning)\n",
    "results = {\n",
    "    'SGD': {},\n",
    "    'IWLS': {},\n",
    "    'ADAM': {}\n",
    "}\n",
    "n_splits = 5\n",
    "\n",
    "for dataset in datasets:\n",
    "    for r in np.random.randint(1, 1e5, n_splits):\n",
    "        X_train, X_test, y_train, y_test = train_test_split(datasets[dataset][0], datasets[dataset][1], test_size=0.2, random_state=r)\n",
    "        for opt_algorithm in ['SGD', 'IWLS', 'ADAM']:\n",
    "            model = LR(n_iterations=500, learning_rate=lr_dict[(dataset, opt_algorithm)], tol = 1e-7)\n",
    "            model.fit(X_train, y_train, optimization_algorithm=opt_algorithm, batch_size=64)\n",
    "            if results[opt_algorithm].get(dataset) is None:\n",
    "                results[opt_algorithm][dataset] = 0\n",
    "            print(f'\\r{opt_algorithm}, {dataset}, {balanced_accuracy_score(y_test, model.predict(X_test))}------------------------------------------', end='')\n",
    "            results[opt_algorithm][dataset] += balanced_accuracy_score(y_test, model.predict(X_test)) / n_splits"
   ]
  },
  {
   "cell_type": "code",
   "execution_count": null,
   "metadata": {},
   "outputs": [
    {
     "data": {
      "text/plain": [
       "<Figure size 1152x864 with 0 Axes>"
      ]
     },
     "metadata": {},
     "output_type": "display_data"
    },
    {
     "data": {
      "image/png": "[encoded data removed]",
      "text/plain": [
       "<Figure size 864x432 with 1 Axes>"
      ]
     },
     "metadata": {},
     "output_type": "display_data"
    }
   ],
   "source": [
    "from matplotlib import pyplot as plt\n",
    "plt.figure(figsize = (16, 12))\n",
    "\n",
    "labels = list(results['SGD'].keys())\n",
    "SGD_values = list(results['SGD'].values())\n",
    "IWLS_values = list(results['IWLS'].values())\n",
    "ADAM_values = list(results['ADAM'].values())\n",
    "\n",
    "x = range(len(labels))\n",
    "\n",
    "# Plotting\n",
    "plt.figure(figsize=(12, 6))\n",
    "bar_width = 0.25\n",
    "\n",
    "plt.bar(x, SGD_values, width=bar_width, label='SGD')\n",
    "plt.bar([i + bar_width for i in x], IWLS_values, width=bar_width, label='IWLS')\n",
    "plt.bar([i + bar_width*2 for i in x], ADAM_values, width=bar_width, label='ADAM')\n",
    "\n",
    "plt.xlabel('Tasks')\n",
    "plt.ylabel('Accuracy')\n",
    "plt.title('Accuracy comparison between SGD, IWLS, and ADAM', fontsize = 15)\n",
    "plt.xticks([i + bar_width for i in x], labels)\n",
    "plt.legend()\n",
    "plt.savefig('./media/task3_2.jpg', dpi = 200)\n",
    "plt.show()"
   ]
  }
 ],
 "metadata": {
  "language_info": {
   "name": "python"
  }
 },
 "nbformat": 4,
 "nbformat_minor": 2
}
